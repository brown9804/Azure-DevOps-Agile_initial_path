{
 "cells": [
  {
   "cell_type": "markdown",
   "metadata": {},
   "source": [
    "# API Setup \n",
    "## Currency Conversion  "
   ]
  },
  {
   "cell_type": "markdown",
   "metadata": {},
   "source": [
    "Costa Rica\n",
    "\n",
    "Belinda Brown, belindabrownr04@gmail.com\n",
    "\n",
    "\n",
    "Jan, 2021"
   ]
  },
  {
   "cell_type": "markdown",
   "metadata": {},
   "source": [
    "## Installing packages"
   ]
  },
  {
   "cell_type": "markdown",
   "metadata": {},
   "source": [
    "### 1. Uvicorn \n",
    "Is an **ASGI web server implementation for Python**. **ASGI (Asynchronous Server Gateway Interface)** is a spiritual successor to WSGI, intended to provide a standard interface between async-capable Python web servers, frameworks, and applications.\n",
    "Where WSGI provided a standard for synchronous Python apps, **ASGI provides one for both asynchronous and synchronous apps**, with a WSGI backwards-compatibility implementation and multiple servers and application frameworks \n",
    "\n",
    "- host: [default: 127.0.0.1]\n",
    "- port: [default: 8000]\n",
    "\n",
    "> > -- <cite> Unicorn [8]  </cite>"
   ]
  },
  {
   "cell_type": "code",
   "execution_count": null,
   "metadata": {},
   "outputs": [],
   "source": [
    "!pip install uvicorn==0.16.0"
   ]
  },
  {
   "cell_type": "markdown",
   "metadata": {},
   "source": [
    "### 2. FastAPI\n",
    "\n",
    "FastAPI is a modern, fast (high-performance), web framework for building APIs with Python 3.6+ based on standard Python type hints.\n",
    "\n",
    "- You will also need an ASGI server, for production such as **Uvicorn or Hypercorn**.\n",
    "\n",
    "> > -- <cite> FastAPI [9, 10]  </cite>"
   ]
  },
  {
   "cell_type": "code",
   "execution_count": null,
   "metadata": {},
   "outputs": [],
   "source": [
    "!pip install fastapi"
   ]
  },
  {
   "cell_type": "code",
   "execution_count": null,
   "metadata": {},
   "outputs": [],
   "source": [
    "!pip install fastapi-utils"
   ]
  },
  {
   "cell_type": "markdown",
   "metadata": {},
   "source": [
    "## Import packages "
   ]
  },
  {
   "cell_type": "code",
   "execution_count": 1,
   "metadata": {},
   "outputs": [],
   "source": [
    "import os\n",
    "import glob\n",
    "import logging\n",
    "import sys\n",
    "import openpyxl\n",
    "from tqdm import tqdm\n",
    "from datetime import date\n",
    "import time\n",
    "import prettytable\n",
    "from fastapi import Depends, FastAPI\n",
    "from fastapi_utils.cbv import cbv\n",
    "from fastapi_utils.inferring_router import InferringRouter\n",
    "import requests\n",
    "from tkinter import *\n",
    "import tkinter as tk\n",
    "from tkinter import ttk  \n",
    "import pandas as pd\n",
    "import numpy as np"
   ]
  },
  {
   "cell_type": "markdown",
   "metadata": {},
   "source": [
    "## Functions Definitions"
   ]
  },
  {
   "cell_type": "markdown",
   "metadata": {},
   "source": [
    "**Preprocessing data**"
   ]
  },
  {
   "cell_type": "code",
   "execution_count": 2,
   "metadata": {},
   "outputs": [],
   "source": [
    "def preprocessing_data(filename, column_name, column_id):            \n",
    "    source_df = pd.read_csv(filename, sep=',', encoding='utf-8', engine='python',error_bad_lines=False) \n",
    "\n",
    "    source_df[column_name] = [str(i).replace(\" \", \"\") for i in source_df[column_name]]\n",
    "    source_df = source_df.astype({column_name:'float64'})\n",
    "    source_df = source_df.drop_duplicates(subset=column_id)   \n",
    "    curr_df = source_df.copy()\n",
    "    return curr_df"
   ]
  },
  {
   "cell_type": "markdown",
   "metadata": {},
   "source": [
    "**Apply to each definition**"
   ]
  },
  {
   "cell_type": "code",
   "execution_count": 3,
   "metadata": {},
   "outputs": [],
   "source": [
    "def apply_by_row(exchange_df, curr_column_0, new_curr, amount_column, std_amount_column):\n",
    "    exchange_df[std_amount_column] = exchange_df.apply(lambda row : converter.convert(row[curr_column_0], new_curr, row[amount_column]), axis = 1)\n",
    "    return exchange_df"
   ]
  },
  {
   "cell_type": "markdown",
   "metadata": {},
   "source": [
    "**Export to csv definition**"
   ]
  },
  {
   "cell_type": "code",
   "execution_count": 4,
   "metadata": {},
   "outputs": [],
   "source": [
    "def df_export_to_csv(source_df, output_file_name_with_path):\n",
    "    source_df.to_csv(output_file_name_with_path, index=False)    "
   ]
  },
  {
   "cell_type": "markdown",
   "metadata": {},
   "source": [
    "**FastAPI()** carries: \n",
    "- The endpoint \n",
    "- HTTP method\n",
    "- Input arguments\n",
    "- What the API will do behind the scenes.\n",
    "\n",
    "> > -- <cite> FastAPI [9, 10, 11]  </cite>"
   ]
  },
  {
   "cell_type": "code",
   "execution_count": 5,
   "metadata": {},
   "outputs": [],
   "source": [
    "app = FastAPI()"
   ]
  },
  {
   "cell_type": "markdown",
   "metadata": {},
   "source": [
    "For creating **class-based** views you can use **@cbv** decorator from **fastapi-utils**. <br/>\n",
    "The motivation of using it: <br/>\n",
    "```\n",
    "Stop repeating the same dependencies over and over in the signature of related endpoints.\n",
    "```\n",
    "> > -- <cite> Stack Overflow [12]  </cite>"
   ]
  },
  {
   "cell_type": "markdown",
   "metadata": {},
   "source": [
    "**RealTimeCurrencyConverter** class which will get the real-time exchange rate and convert the currency and return the converted amount. <br/>\n",
    "\n",
    "<cite>**requests.get(url)** load the page in our python program and then .json() will convert the page into the json file. We store it in a data variable. </cite>\n",
    "\n",
    "\n",
    "```\n",
    "class RealTimeCurrencyConverter():\n",
    "    def __init__(self,url):\n",
    "            self.data = requests.get(url).json()\n",
    "            self.currencies = self.data['rates']\n",
    "\n",
    "    def convert(self, from_currency, to_currency, amount): \n",
    "        initial_amount = amount \n",
    "        if from_currency != 'USD' : \n",
    "            amount = amount / self.currencies[from_currency] \n",
    "  \n",
    "        # limiting the precision to 4 decimal places \n",
    "        amount = round(amount * self.currencies[to_currency], 4) \n",
    "        return amount\n",
    "```\n",
    "> > -- <cite> Stack Overflow [13]  </cite>"
   ]
  },
  {
   "cell_type": "code",
   "execution_count": 6,
   "metadata": {},
   "outputs": [],
   "source": [
    "url = 'https://api.exchangerate-api.com/v4/latest/USD'\n",
    "router = InferringRouter()  # Step 1: Create a route"
   ]
  },
  {
   "cell_type": "code",
   "execution_count": 7,
   "metadata": {},
   "outputs": [],
   "source": [
    "@cbv(router)  # Step 2: Create and decorate a class to hold the endpoints\n",
    "class RealTimeCurrencyConverter():\n",
    "    # Step 3: Add dependencies as class attributes\n",
    "    @router.get(\"/curr_exchange_csv_api\")       \n",
    "    def __init__(self,url):\n",
    "            self.data = requests.get(url).json()\n",
    "            self.currencies = self.data['rates']\n",
    "\n",
    "    def convert(self, from_currency, to_currency, amount): \n",
    "        initial_amount = amount \n",
    "        if from_currency != 'USD' : \n",
    "            amount = amount / self.currencies[from_currency] \n",
    "\n",
    "        # limiting the precision to 4 decimal places \n",
    "        amount = round(amount * self.currencies[to_currency], 4) \n",
    "        return amount "
   ]
  },
  {
   "cell_type": "code",
   "execution_count": 8,
   "metadata": {},
   "outputs": [],
   "source": [
    "app.include_router(router)         "
   ]
  },
  {
   "cell_type": "code",
   "execution_count": 9,
   "metadata": {},
   "outputs": [],
   "source": [
    "converter = RealTimeCurrencyConverter(url)"
   ]
  },
  {
   "cell_type": "code",
   "execution_count": 10,
   "metadata": {},
   "outputs": [],
   "source": [
    "exchange_df = preprocessing_data('./objects_data_small_slide.csv', 'Amount', 'Object ID')"
   ]
  },
  {
   "cell_type": "code",
   "execution_count": 11,
   "metadata": {},
   "outputs": [],
   "source": [
    "new_curr_df = apply_by_row(exchange_df, 'Currency', 'USD', 'Amount', 'std_amount_column')"
   ]
  },
  {
   "cell_type": "code",
   "execution_count": 12,
   "metadata": {},
   "outputs": [],
   "source": [
    "df_export_to_csv(new_curr_df, './new_curr_exchanged_data.csv')"
   ]
  },
  {
   "cell_type": "markdown",
   "metadata": {},
   "source": [
    "## References"
   ]
  },
  {
   "cell_type": "markdown",
   "metadata": {},
   "source": [
    "[1] From https://realpython.com/api-integration-in-python/#rest-architecture <br/>\n",
    "[2] From https://qatechhub.com/rest-api-introduction/ <br/> \n",
    "[3] From https://stevenpcurtis.medium.com/endpoint-vs-api-ee96a91e88ca <br/>\n",
    "[4] From https://towardsdatascience.com/using-github-pages-for-creating-global-api-76b296c4b3b5 <br/>\n",
    "[5] From https://blog.hubspot.com/website/api-endpoint <br/>\n",
    "[6] From https://realpython.com/python-web-applications/ <br/>\n",
    "[7] From https://anderfernandez.com/blog/como-crear-api-en-python/ <br/>\n",
    "[8] From https://www.uvicorn.org/ <br/>\n",
    "[9] From https://fastapi.tiangolo.com/ <br/>\n",
    "[10] From https://github.com/tiangolo/fastapi <br/>\n",
    "[11] From https://github.com/tiangolo/fastapi/blob/master/fastapi/applications.py <br/>\n",
    "[12] From https://stackoverflow.com/questions/63853813/how-to-create-routes-with-fastapi-within-a-class <br/>\n",
    "[13] From https://data-flair.training/blogs/currency-converter-python/ <br/>\n",
    "[14] From https://www.roseindia.net/answers/viewqa/pythonquestions/98745-ModuleNotFoundError-No-module-named-fastapi-utils.html <br/>\n",
    "[15] From https://unix.stackexchange.com/questions/125757/make-complains-missing-separator-did-you-mean-tab <br/>\n",
    "[16] From https://www.twilio.com/blog/how-run-flask-application <br/>\n",
    "[17] From https://flask.palletsprojects.com/en/2.0.x/config/  <br/>\n",
    "[18] From https://flask.palletsprojects.com/en/1.1.x/deploying/#deployment <br/>\n",
    "[19] From https://realpython.com/python-web-applications/#reader-comments <br/>\n"
   ]
  }
 ],
 "metadata": {
  "kernelspec": {
   "display_name": "Python 3.6 - AzureML",
   "language": "python",
   "name": "python3-azureml"
  },
  "language_info": {
   "codemirror_mode": {
    "name": "ipython",
    "version": 3
   },
   "file_extension": ".py",
   "mimetype": "text/x-python",
   "name": "python",
   "nbconvert_exporter": "python",
   "pygments_lexer": "ipython3",
   "version": "3.6.9"
  }
 },
 "nbformat": 4,
 "nbformat_minor": 4
}
